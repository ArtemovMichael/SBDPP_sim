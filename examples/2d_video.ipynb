{
 "cells": [
  {
   "cell_type": "code",
   "execution_count": 65,
   "metadata": {},
   "outputs": [],
   "source": [
    "import numpy as np\n",
    "import pandas as pd\n",
    "from tqdm import tqdm\n",
    "from scipy.stats import rayleigh\n",
    "\n",
    "import matplotlib\n",
    "import matplotlib.pyplot as plt\n",
    "from matplotlib import animation\n",
    "from matplotlib.animation import FuncAnimation\n",
    "\n",
    "import sys"
   ]
  },
  {
   "cell_type": "code",
   "execution_count": 66,
   "metadata": {},
   "outputs": [],
   "source": [
    "sys.path.append(\"/home/michael/SBDPP_sim\") # your path to the SBDPP_sim folder\n",
    "import simulation"
   ]
  },
  {
   "cell_type": "code",
   "execution_count": 67,
   "metadata": {
    "collapsed": true
   },
   "outputs": [
    {
     "name": "stdout",
     "output_type": "stream",
     "text": [
      "Birth rate: 4000.0\n",
      "Death rate: 1602.1050115717705\n"
     ]
    }
   ],
   "source": [
    "L = 50.0\n",
    "M = 4\n",
    "\n",
    "r_values = np.arange(0, 5.01, 0.01)\n",
    "\n",
    "# 2D standard normal distribution radial density\n",
    "# The radial distribution for a 2D normal is proportional to Rayleigh distribution with scale 1 (standard normal case)\n",
    "def density(r):\n",
    "    return (1 / (2 * np.pi)) * np.exp(-0.5 * r**2)\n",
    "\n",
    "radial_density_values = density(r_values)\n",
    "q_values = np.arange(0, 1.0, 0.001)\n",
    "inverse_radial_values = rayleigh.ppf(q_values, scale = 1.0)\n",
    "\n",
    "g2 = simulation.PyGrid2(\n",
    "    M = M,\n",
    "    areaLen = [L, L],\n",
    "    cellCount = [L, L],\n",
    "    isPeriodic = True,\n",
    "    birthRates = [1] * M,\n",
    "    deathRates = [0] * M,\n",
    "    ddMatrix = [0.1, 0.3, 0.3, 0.3,\n",
    "                0.3, 0.1, 0.3, 0.3,\n",
    "                0.3, 0.3, 0.1, 0.3,\n",
    "                0.3, 0.3, 0.3, 0.1],\n",
    "    birthX = [q_values.tolist()] * M,\n",
    "    birthY = [inverse_radial_values.tolist()] * M,\n",
    "    deathX_ = [[r_values.tolist()]*M] * M,\n",
    "    deathY_ = [[radial_density_values.tolist()] * M] * M,\n",
    "    cutoffs = [5.0] * M * M,\n",
    "    seed = 42,\n",
    "    rtimeLimit = 7200.0\n",
    ")\n",
    "\n",
    "\n",
    "N = 1000  # Number of [x, y] pairs per group\n",
    "\n",
    "coordinates = []\n",
    "for _ in range(M):\n",
    "    group = [[np.random.uniform(0, L), np.random.uniform(0, L)] for _ in range(N)]\n",
    "    coordinates.append(group)\n",
    "\n",
    "g2.placePopulation(coordinates)\n",
    "\n",
    "print(\"Birth rate:\", g2.total_birth_rate)\n",
    "print(\"Death rate:\", g2.total_death_rate)"
   ]
  },
  {
   "cell_type": "code",
   "execution_count": null,
   "metadata": {
    "collapsed": false
   },
   "outputs": [
    {
     "name": "stderr",
     "output_type": "stream",
     "text": [
      "Population: 21909, Progress: 100%|██████████| 30/30 [01:59<00:00,  3.98s/it]\n"
     ]
    }
   ],
   "source": [
    "data = list()\n",
    "\n",
    "for t in (pbar := tqdm(range(30))):\n",
    "    for c in range(g2.get_num_cells()):\n",
    "        for n in range(M):\n",
    "            coords = g2.get_cell_coords(c, n)\n",
    "            for i in range(len(coords)):\n",
    "                x,y = coords[i]\n",
    "                data.append([t, x, y, n])\n",
    "    g2.run_for(1)    \n",
    "    pbar.set_description(f\"Population: {g2.total_population}, Progress\")"
   ]
  },
  {
   "cell_type": "code",
   "execution_count": 72,
   "metadata": {
    "collapsed": false
   },
   "outputs": [
    {
     "data": {
      "text/html": [
       "<div>\n",
       "<style scoped>\n",
       "    .dataframe tbody tr th:only-of-type {\n",
       "        vertical-align: middle;\n",
       "    }\n",
       "\n",
       "    .dataframe tbody tr th {\n",
       "        vertical-align: top;\n",
       "    }\n",
       "\n",
       "    .dataframe thead th {\n",
       "        text-align: right;\n",
       "    }\n",
       "</style>\n",
       "<table border=\"1\" class=\"dataframe\">\n",
       "  <thead>\n",
       "    <tr style=\"text-align: right;\">\n",
       "      <th></th>\n",
       "      <th>x</th>\n",
       "      <th>y</th>\n",
       "      <th>s</th>\n",
       "    </tr>\n",
       "    <tr>\n",
       "      <th>time</th>\n",
       "      <th></th>\n",
       "      <th></th>\n",
       "      <th></th>\n",
       "    </tr>\n",
       "  </thead>\n",
       "  <tbody>\n",
       "    <tr>\n",
       "      <th>0</th>\n",
       "      <td>0.800354</td>\n",
       "      <td>0.235753</td>\n",
       "      <td>1</td>\n",
       "    </tr>\n",
       "    <tr>\n",
       "      <th>0</th>\n",
       "      <td>0.421223</td>\n",
       "      <td>0.881903</td>\n",
       "      <td>1</td>\n",
       "    </tr>\n",
       "    <tr>\n",
       "      <th>0</th>\n",
       "      <td>0.313140</td>\n",
       "      <td>0.376307</td>\n",
       "      <td>1</td>\n",
       "    </tr>\n",
       "    <tr>\n",
       "      <th>0</th>\n",
       "      <td>0.940997</td>\n",
       "      <td>0.246175</td>\n",
       "      <td>1</td>\n",
       "    </tr>\n",
       "    <tr>\n",
       "      <th>0</th>\n",
       "      <td>0.806012</td>\n",
       "      <td>0.103859</td>\n",
       "      <td>1</td>\n",
       "    </tr>\n",
       "    <tr>\n",
       "      <th>...</th>\n",
       "      <td>...</td>\n",
       "      <td>...</td>\n",
       "      <td>...</td>\n",
       "    </tr>\n",
       "    <tr>\n",
       "      <th>29</th>\n",
       "      <td>49.565267</td>\n",
       "      <td>49.026213</td>\n",
       "      <td>1</td>\n",
       "    </tr>\n",
       "    <tr>\n",
       "      <th>29</th>\n",
       "      <td>49.599531</td>\n",
       "      <td>49.976014</td>\n",
       "      <td>1</td>\n",
       "    </tr>\n",
       "    <tr>\n",
       "      <th>29</th>\n",
       "      <td>49.208770</td>\n",
       "      <td>49.580654</td>\n",
       "      <td>2</td>\n",
       "    </tr>\n",
       "    <tr>\n",
       "      <th>29</th>\n",
       "      <td>49.922859</td>\n",
       "      <td>49.110233</td>\n",
       "      <td>2</td>\n",
       "    </tr>\n",
       "    <tr>\n",
       "      <th>29</th>\n",
       "      <td>49.431137</td>\n",
       "      <td>49.519920</td>\n",
       "      <td>2</td>\n",
       "    </tr>\n",
       "  </tbody>\n",
       "</table>\n",
       "<p>620003 rows × 3 columns</p>\n",
       "</div>"
      ],
      "text/plain": [
       "              x          y  s\n",
       "time                         \n",
       "0      0.800354   0.235753  1\n",
       "0      0.421223   0.881903  1\n",
       "0      0.313140   0.376307  1\n",
       "0      0.940997   0.246175  1\n",
       "0      0.806012   0.103859  1\n",
       "...         ...        ... ..\n",
       "29    49.565267  49.026213  1\n",
       "29    49.599531  49.976014  1\n",
       "29    49.208770  49.580654  2\n",
       "29    49.922859  49.110233  2\n",
       "29    49.431137  49.519920  2\n",
       "\n",
       "[620003 rows x 3 columns]"
      ]
     },
     "metadata": {},
     "output_type": "display_data"
    }
   ],
   "source": [
    "df = pd.DataFrame(columns = ['time', 'x', 'y', 's'], data = data)\n",
    "display(df.set_index('time'))"
   ]
  },
  {
   "cell_type": "code",
   "execution_count": 73,
   "metadata": {
    "collapsed": false
   },
   "outputs": [],
   "source": [
    "movie_writer = animation.FFMpegWriter(\n",
    "    fps = 2,\n",
    "    codec = 'h264',\n",
    "    extra_args = ['-vcodec', 'libx264']\n",
    ")"
   ]
  },
  {
   "cell_type": "code",
   "execution_count": 74,
   "metadata": {
    "collapsed": false
   },
   "outputs": [
    {
     "name": "stdout",
     "output_type": "stream",
     "text": [
      "Animation saved as points_animation.mp4\n"
     ]
    }
   ],
   "source": [
    "matplotlib.rcParams['animation.ffmpeg_path'] = '/usr/bin/ffmpeg' # Set the path to ffmpeg\n",
    "\n",
    "df = df.sort_values('time')\n",
    "output_file = \"points_animation.mp4\"\n",
    "\n",
    "fig, ax = plt.subplots(figsize=(8, 8))\n",
    "\n",
    "# Set axis limits\n",
    "ax.set_xlim(0, L)\n",
    "ax.set_ylim(0, L)\n",
    "ax.set_xlabel('x')\n",
    "ax.set_ylabel('y')\n",
    "sc = ax.scatter([], [], c = [], cmap = 'plasma', s = 20, alpha = 0.6)\n",
    "\n",
    "# Animation function\n",
    "def update(frame):\n",
    "    current_df = df[df['time'] == frame]\n",
    "    sc.set_offsets(current_df[['x', 'y']].values)\n",
    "    sc.set_array(current_df['s'].values)\n",
    "    ax.set_title(f\"Time: {frame}\")\n",
    "    return sc,\n",
    "\n",
    "ani = FuncAnimation(fig, update, frames=df['time'].nunique(), blit = True)\n",
    "\n",
    "# Save as MP4\n",
    "ani.save(output_file, writer = movie_writer)\n",
    "print(f\"Animation saved as {output_file}\")\n",
    "plt.close(fig)"
   ]
  }
 ],
 "metadata": {
  "kernelspec": {
   "display_name": "venv",
   "language": "python",
   "name": "python3"
  },
  "language_info": {
   "codemirror_mode": {
    "name": "ipython",
    "version": 3
   },
   "file_extension": ".py",
   "mimetype": "text/x-python",
   "name": "python",
   "nbconvert_exporter": "python",
   "pygments_lexer": "ipython3",
   "version": "3.13.2"
  }
 },
 "nbformat": 4,
 "nbformat_minor": 0
}
