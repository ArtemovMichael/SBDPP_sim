{
 "cells": [
  {
   "cell_type": "code",
   "execution_count": 13,
   "metadata": {},
   "outputs": [],
   "source": [
    "import numpy as np\n",
    "import pandas as pd\n",
    "from tqdm import tqdm\n",
    "from scipy.stats import rayleigh\n",
    "\n",
    "import matplotlib\n",
    "import matplotlib.pyplot as plt\n",
    "from matplotlib import animation\n",
    "from matplotlib.animation import FuncAnimation\n",
    "\n",
    "import sys"
   ]
  },
  {
   "cell_type": "code",
   "execution_count": 15,
   "metadata": {},
   "outputs": [],
   "source": [
    "sys.path.append(\"/home/michael/SBDPP_sim\") # your path to the SBDPP_sim folder\n",
    "import simulation"
   ]
  },
  {
   "cell_type": "code",
   "execution_count": 16,
   "metadata": {
    "collapsed": false
   },
   "outputs": [
    {
     "name": "stdout",
     "output_type": "stream",
     "text": [
      "Birth rate: 2.0\n",
      "Death rate: 0.011710109162477299\n"
     ]
    }
   ],
   "source": [
    "L = 25\n",
    "M = 1\n",
    "\n",
    "r_values = np.arange(0, 5.01, 0.01)\n",
    "\n",
    "# 2D standard normal distribution radial density\n",
    "# The radial distribution for a 2D normal is proportional to Rayleigh distribution with scale 1 (standard normal case)\n",
    "def density(r):\n",
    "    return (1 / (2 * np.pi)) * np.exp(-0.5 * r**2)\n",
    "\n",
    "radial_density_values = density(r_values)\n",
    "q_values = np.arange(0, 1.0, 0.001)\n",
    "inverse_radial_values = rayleigh.ppf(q_values, scale = 1.0)\n",
    "\n",
    "g2 = simulation.PyGrid2(\n",
    "    M = 1,\n",
    "    areaLen = [L, L],\n",
    "    cellCount = [L, L],\n",
    "    isPeriodic = False,\n",
    "    birthRates = [1],\n",
    "    deathRates = [0],\n",
    "    ddMatrix = [0.1],\n",
    "    birthX = [q_values.tolist()],\n",
    "    birthY = [inverse_radial_values.tolist()],\n",
    "    deathX_ = [[r_values.tolist()]],\n",
    "    deathY_ = [[radial_density_values.tolist()]],\n",
    "    cutoffs = [5.0],\n",
    "    seed = 42,\n",
    "    rtimeLimit = 1000.0\n",
    ")\n",
    "\n",
    "initCoords = [[[1.0, 2.0], [2.0, 3.0]]]\n",
    "g2.placePopulation(initCoords)\n",
    "\n",
    "print(\"Birth rate:\", g2.total_birth_rate)\n",
    "print(\"Death rate:\", g2.total_death_rate)"
   ]
  },
  {
   "cell_type": "code",
   "execution_count": 17,
   "metadata": {
    "collapsed": false
   },
   "outputs": [],
   "source": [
    "for i in range(1000000):\n",
    "    g2.make_event()"
   ]
  },
  {
   "cell_type": "code",
   "execution_count": 18,
   "metadata": {
    "collapsed": false
   },
   "outputs": [
    {
     "name": "stdout",
     "output_type": "stream",
     "text": [
      "Birth rate: 6249.0\n",
      "Death rate: 5821.379057970716\n",
      "Total population: 6249\n",
      "time: 100.04348800402884  event_count: 1000000\n"
     ]
    }
   ],
   "source": [
    "print(\"Birth rate:\", g2.total_birth_rate)\n",
    "print(\"Death rate:\", g2.total_death_rate)\n",
    "print(\"Total population:\", g2.total_population)\n",
    "print(\"time:\", g2.time, \" event_count:\", g2.event_count)"
   ]
  }
 ],
 "metadata": {
  "kernelspec": {
   "display_name": "venv",
   "language": "python",
   "name": "python3"
  },
  "language_info": {
   "codemirror_mode": {
    "name": "ipython",
    "version": 3
   },
   "file_extension": ".py",
   "mimetype": "text/x-python",
   "name": "python",
   "nbconvert_exporter": "python",
   "pygments_lexer": "ipython3",
   "version": "3.13.2"
  }
 },
 "nbformat": 4,
 "nbformat_minor": 0
}
