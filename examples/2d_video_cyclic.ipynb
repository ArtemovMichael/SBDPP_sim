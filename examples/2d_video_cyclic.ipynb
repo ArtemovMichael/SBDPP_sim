{
 "cells": [
  {
   "cell_type": "code",
   "execution_count": null,
   "metadata": {},
   "outputs": [],
   "source": [
    "import numpy as np\n",
    "import pandas as pd\n",
    "from tqdm import tqdm\n",
    "from scipy.stats import rayleigh\n",
    "\n",
    "import matplotlib\n",
    "import matplotlib.pyplot as plt\n",
    "from matplotlib import animation\n",
    "from matplotlib.animation import FuncAnimation\n",
    "\n",
    "import sys"
   ]
  },
  {
   "cell_type": "code",
   "execution_count": 4,
   "metadata": {},
   "outputs": [],
   "source": [
    "sys.path.append(\"/home/michael/SBDPP_sim\") # your path to the SBDPP_sim folder\n",
    "import simulation"
   ]
  },
  {
   "cell_type": "code",
   "execution_count": 5,
   "metadata": {
    "collapsed": true
   },
   "outputs": [
    {
     "name": "stdout",
     "output_type": "stream",
     "text": [
      "Birth rate: 3000.0\n",
      "Death rate: 475.8314409841006\n"
     ]
    }
   ],
   "source": [
    "L = 50.0\n",
    "M = 3\n",
    "\n",
    "r_values = np.arange(0, 5.01, 0.01)\n",
    "\n",
    "# 2D standard normal distribution radial density\n",
    "# The radial distribution for a 2D normal is proportional to Rayleigh distribution with scale 1 (standard normal case)\n",
    "def density(r):\n",
    "    return (1 / (2 * np.pi)) * np.exp(-0.5 * r**2)\n",
    "\n",
    "radial_density_values = density(r_values)\n",
    "q_values = np.arange(0, 1.0, 0.001)\n",
    "inverse_radial_values = rayleigh.ppf(q_values, scale = 1.0)\n",
    "\n",
    "g2 = simulation.PyGrid2(\n",
    "    M = M,\n",
    "    areaLen = [L, L],\n",
    "    cellCount = [L, L],\n",
    "    isPeriodic = True,\n",
    "    birthRates = [1] * M,\n",
    "    deathRates = [0] * M,\n",
    "    ddMatrix = [0.1, 0.2, 0.1,\n",
    "                0.1, 0.1, 0.2,\n",
    "                0.2, 0.1, 0.1],\n",
    "    birthX = [q_values.tolist()] * M,\n",
    "    birthY = [inverse_radial_values.tolist()]*M,\n",
    "    deathX_ = [[r_values.tolist()] * M] * M,\n",
    "    deathY_ = [[radial_density_values.tolist()] * M] * M,\n",
    "    cutoffs = [5.0] * M * M,\n",
    "    seed = 42,\n",
    "    rtimeLimit = 7200.0\n",
    ")\n",
    "\n",
    "\n",
    "N = 1000  # Number of [x, y] pairs per group\n",
    "\n",
    "coordinates = []\n",
    "for _ in range(M):\n",
    "    group = [[np.random.uniform(0, L), np.random.uniform(0, L)] for _ in range(N)]\n",
    "    coordinates.append(group)\n",
    "\n",
    "g2.placePopulation(coordinates)\n",
    "\n",
    "print(\"Birth rate:\", g2.total_birth_rate)\n",
    "print(\"Death rate:\", g2.total_death_rate)"
   ]
  },
  {
   "cell_type": "code",
   "execution_count": 12,
   "metadata": {
    "collapsed": false
   },
   "outputs": [
    {
     "name": "stderr",
     "output_type": "stream",
     "text": [
      "Population: 21868, Progress: 100%|██████████| 30/30 [02:15<00:00,  4.53s/it]\n"
     ]
    }
   ],
   "source": [
    "df = pd.DataFrame()\n",
    "\n",
    "for t in (pbar := tqdm(range(30))):\n",
    "    arrays = [np.column_stack((sublist, np.full((len(sublist), 1), i))) for i, sublist in enumerate(g2.get_all_particle_coords())]\n",
    "    final_array = np.vstack(arrays)\n",
    "    df_t = pd.DataFrame(final_array, columns=['x', 'y', 's'])\n",
    "    df_t['time'] = t\n",
    "    df = pd.concat([df,df_t], ignore_index = True, sort = False)\n",
    "    g2.run_for(1)\n",
    "    pbar.set_description(f\"Population: {final_array.shape[0]}, Progress\")"
   ]
  },
  {
   "cell_type": "code",
   "execution_count": 13,
   "metadata": {
    "collapsed": false
   },
   "outputs": [],
   "source": [
    "movie_writer = animation.FFMpegWriter(\n",
    "    fps = 2,\n",
    "    codec = 'h264',\n",
    "    extra_args = ['-vcodec', 'libx264']\n",
    ")"
   ]
  },
  {
   "cell_type": "code",
   "execution_count": 14,
   "metadata": {
    "collapsed": false
   },
   "outputs": [
    {
     "name": "stdout",
     "output_type": "stream",
     "text": [
      "Animation saved as points_animation_cyclic.mp4\n"
     ]
    }
   ],
   "source": [
    "matplotlib.rcParams['animation.ffmpeg_path'] = '/usr/bin/ffmpeg' # Set the path to ffmpeg\n",
    "\n",
    "df = df.sort_values('time')\n",
    "output_file = \"points_animation_cyclic.mp4\"\n",
    "\n",
    "fig, ax = plt.subplots(figsize=(8, 8))\n",
    "\n",
    "# Set axis limits\n",
    "ax.set_xlim(0, L)\n",
    "ax.set_ylim(0, L)\n",
    "ax.set_xlabel('x')\n",
    "ax.set_ylabel('y')\n",
    "sc = ax.scatter([], [], c = [], cmap = 'plasma', s = 20, alpha = 0.6)\n",
    "\n",
    "# Animation function\n",
    "def update(frame):\n",
    "    current_df = df[df['time'] == frame]\n",
    "    sc.set_offsets(current_df[['x', 'y']].values)\n",
    "    sc.set_array(current_df['s'].values)\n",
    "    ax.set_title(f\"Time: {frame}\")\n",
    "    return sc,\n",
    "\n",
    "ani = FuncAnimation(fig, update, frames=df['time'].nunique(), blit = True)\n",
    "\n",
    "# Save as MP4\n",
    "ani.save(output_file, writer = movie_writer)\n",
    "print(f\"Animation saved as {output_file}\")\n",
    "plt.close(fig)"
   ]
  }
 ],
 "metadata": {
  "kernelspec": {
   "display_name": "venv",
   "language": "python",
   "name": "python3"
  },
  "language_info": {
   "codemirror_mode": {
    "name": "ipython",
    "version": 3
   },
   "file_extension": ".py",
   "mimetype": "text/x-python",
   "name": "python",
   "nbconvert_exporter": "python",
   "pygments_lexer": "ipython3",
   "version": "3.13.2"
  }
 },
 "nbformat": 4,
 "nbformat_minor": 0
}
